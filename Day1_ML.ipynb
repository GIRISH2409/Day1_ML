{
  "nbformat": 4,
  "nbformat_minor": 0,
  "metadata": {
    "colab": {
      "name": "Day1_ML.ipynb",
      "provenance": [],
      "collapsed_sections": [],
      "history_visible": true,
      "authorship_tag": "ABX9TyMjRkp0a70dydF2XPpPcW96",
      "include_colab_link": true
    },
    "kernelspec": {
      "name": "python3",
      "display_name": "Python 3"
    },
    "language_info": {
      "name": "python"
    }
  },
  "cells": [
    {
      "cell_type": "markdown",
      "metadata": {
        "id": "view-in-github",
        "colab_type": "text"
      },
      "source": [
        "<a href=\"https://colab.research.google.com/github/GIRISH2409/Day1_ML/blob/main/Day1_ML.ipynb\" target=\"_parent\"><img src=\"https://colab.research.google.com/assets/colab-badge.svg\" alt=\"Open In Colab\"/></a>"
      ]
    },
    {
      "cell_type": "markdown",
      "metadata": {
        "id": "19j8An3KMEo7"
      },
      "source": [
        "# Day1"
      ]
    },
    {
      "cell_type": "code",
      "metadata": {
        "colab": {
          "base_uri": "https://localhost:8080/"
        },
        "id": "sgDpoRNXMBJg",
        "outputId": "d272b9df-c15e-4500-b4db-d612e22a3ebd"
      },
      "source": [
        "# Numpy\n",
        "\n",
        "import numpy as np\n",
        "\n",
        "a = [1,2,3,4]\n",
        "\n",
        "arr1 = np.array(a)\n",
        "\n",
        "b = [[1,2,3,4],[5,6,7,8]]\n",
        "\n",
        "arr2 = np.array(b)\n",
        "\n",
        "print(arr1)\n",
        "print(arr2)\n"
      ],
      "execution_count": 1,
      "outputs": [
        {
          "output_type": "stream",
          "text": [
            "[1 2 3 4]\n",
            "[[1 2 3 4]\n",
            " [5 6 7 8]]\n"
          ],
          "name": "stdout"
        }
      ]
    },
    {
      "cell_type": "code",
      "metadata": {
        "colab": {
          "base_uri": "https://localhost:8080/"
        },
        "id": "3-DttgwKN0Oo",
        "outputId": "13c2895e-c236-439e-ed58-1045d15c984d"
      },
      "source": [
        "print(type(a),type(arr1),type(b),type(arr2))\n"
      ],
      "execution_count": 2,
      "outputs": [
        {
          "output_type": "stream",
          "text": [
            "<class 'list'> <class 'numpy.ndarray'> <class 'list'> <class 'numpy.ndarray'>\n"
          ],
          "name": "stdout"
        }
      ]
    },
    {
      "cell_type": "code",
      "metadata": {
        "colab": {
          "base_uri": "https://localhost:8080/"
        },
        "id": "rmRA7eztOJHp",
        "outputId": "c4173b59-6741-485f-a0ac-0d923786b1dc"
      },
      "source": [
        "import sys\n",
        "\n",
        "s = range(1000)\n",
        "\n",
        "print(\"size of each elment in the list in byters\",sys.getsizeof(s\n",
        "                                                                ))\n"
      ],
      "execution_count": 3,
      "outputs": [
        {
          "output_type": "stream",
          "text": [
            "size of each elment in the list in byters 48\n"
          ],
          "name": "stdout"
        }
      ]
    },
    {
      "cell_type": "code",
      "metadata": {
        "colab": {
          "base_uri": "https://localhost:8080/"
        },
        "id": "qjHIawcWOoZP",
        "outputId": "045ca5ca-3ec7-4788-c217-24c598be53b8"
      },
      "source": [
        "#we are checking comparison between numpy size and normal size of sys package\n",
        "\n",
        "import numpy as np\n",
        "\n",
        "s = np.arange(1000)\n",
        "\n",
        "print(\"size of each elements in the list by item size\",s.itemsize)\n",
        "\n",
        "print(\"complete list size in bytes\", s.size*s.itemsize)\n",
        "\n",
        "\n",
        "\n"
      ],
      "execution_count": 5,
      "outputs": [
        {
          "output_type": "stream",
          "text": [
            "size of each elements in the list by item size 8\n",
            "complete list size in bytes 8000\n"
          ],
          "name": "stdout"
        }
      ]
    },
    {
      "cell_type": "code",
      "metadata": {
        "colab": {
          "base_uri": "https://localhost:8080/"
        },
        "id": "VyLOaZuLPf00",
        "outputId": "0aa270a6-2bca-41d6-d729-dde3e441261d"
      },
      "source": [
        "#import time library and execution time taking by the system\n",
        "\n",
        "import time\n",
        "a = range(1000)\n",
        "b = range(1000)\n",
        "\n",
        "start = time.time()\n",
        "\n",
        "ab = [(a*b) for a,b in zip(a,b)]\n",
        "\n",
        "end = time.time()\n",
        "print(\"total time\",end-start)\n"
      ],
      "execution_count": 7,
      "outputs": [
        {
          "output_type": "stream",
          "text": [
            "total time 0.0003139972686767578\n"
          ],
          "name": "stdout"
        }
      ]
    },
    {
      "cell_type": "code",
      "metadata": {
        "colab": {
          "base_uri": "https://localhost:8080/"
        },
        "id": "dDLmYR9VQ2cX",
        "outputId": "35832d4b-8022-4e2e-9aed-e828a2ef1e2c"
      },
      "source": [
        "import numpy as np\n",
        "import time\n",
        "\n",
        "arr1 = np.arange(1000)\n",
        "arr2 = np.arange(1000)\n",
        "\n",
        "start = time.time()\n",
        "\n",
        "ab =  arr1*arr2\n",
        "\n",
        "end = time.time()\n",
        "print(ab)\n",
        "print(\"total time\",end - start)\n"
      ],
      "execution_count": 11,
      "outputs": [
        {
          "output_type": "stream",
          "text": [
            "[     0      1      4      9     16     25     36     49     64     81\n",
            "    100    121    144    169    196    225    256    289    324    361\n",
            "    400    441    484    529    576    625    676    729    784    841\n",
            "    900    961   1024   1089   1156   1225   1296   1369   1444   1521\n",
            "   1600   1681   1764   1849   1936   2025   2116   2209   2304   2401\n",
            "   2500   2601   2704   2809   2916   3025   3136   3249   3364   3481\n",
            "   3600   3721   3844   3969   4096   4225   4356   4489   4624   4761\n",
            "   4900   5041   5184   5329   5476   5625   5776   5929   6084   6241\n",
            "   6400   6561   6724   6889   7056   7225   7396   7569   7744   7921\n",
            "   8100   8281   8464   8649   8836   9025   9216   9409   9604   9801\n",
            "  10000  10201  10404  10609  10816  11025  11236  11449  11664  11881\n",
            "  12100  12321  12544  12769  12996  13225  13456  13689  13924  14161\n",
            "  14400  14641  14884  15129  15376  15625  15876  16129  16384  16641\n",
            "  16900  17161  17424  17689  17956  18225  18496  18769  19044  19321\n",
            "  19600  19881  20164  20449  20736  21025  21316  21609  21904  22201\n",
            "  22500  22801  23104  23409  23716  24025  24336  24649  24964  25281\n",
            "  25600  25921  26244  26569  26896  27225  27556  27889  28224  28561\n",
            "  28900  29241  29584  29929  30276  30625  30976  31329  31684  32041\n",
            "  32400  32761  33124  33489  33856  34225  34596  34969  35344  35721\n",
            "  36100  36481  36864  37249  37636  38025  38416  38809  39204  39601\n",
            "  40000  40401  40804  41209  41616  42025  42436  42849  43264  43681\n",
            "  44100  44521  44944  45369  45796  46225  46656  47089  47524  47961\n",
            "  48400  48841  49284  49729  50176  50625  51076  51529  51984  52441\n",
            "  52900  53361  53824  54289  54756  55225  55696  56169  56644  57121\n",
            "  57600  58081  58564  59049  59536  60025  60516  61009  61504  62001\n",
            "  62500  63001  63504  64009  64516  65025  65536  66049  66564  67081\n",
            "  67600  68121  68644  69169  69696  70225  70756  71289  71824  72361\n",
            "  72900  73441  73984  74529  75076  75625  76176  76729  77284  77841\n",
            "  78400  78961  79524  80089  80656  81225  81796  82369  82944  83521\n",
            "  84100  84681  85264  85849  86436  87025  87616  88209  88804  89401\n",
            "  90000  90601  91204  91809  92416  93025  93636  94249  94864  95481\n",
            "  96100  96721  97344  97969  98596  99225  99856 100489 101124 101761\n",
            " 102400 103041 103684 104329 104976 105625 106276 106929 107584 108241\n",
            " 108900 109561 110224 110889 111556 112225 112896 113569 114244 114921\n",
            " 115600 116281 116964 117649 118336 119025 119716 120409 121104 121801\n",
            " 122500 123201 123904 124609 125316 126025 126736 127449 128164 128881\n",
            " 129600 130321 131044 131769 132496 133225 133956 134689 135424 136161\n",
            " 136900 137641 138384 139129 139876 140625 141376 142129 142884 143641\n",
            " 144400 145161 145924 146689 147456 148225 148996 149769 150544 151321\n",
            " 152100 152881 153664 154449 155236 156025 156816 157609 158404 159201\n",
            " 160000 160801 161604 162409 163216 164025 164836 165649 166464 167281\n",
            " 168100 168921 169744 170569 171396 172225 173056 173889 174724 175561\n",
            " 176400 177241 178084 178929 179776 180625 181476 182329 183184 184041\n",
            " 184900 185761 186624 187489 188356 189225 190096 190969 191844 192721\n",
            " 193600 194481 195364 196249 197136 198025 198916 199809 200704 201601\n",
            " 202500 203401 204304 205209 206116 207025 207936 208849 209764 210681\n",
            " 211600 212521 213444 214369 215296 216225 217156 218089 219024 219961\n",
            " 220900 221841 222784 223729 224676 225625 226576 227529 228484 229441\n",
            " 230400 231361 232324 233289 234256 235225 236196 237169 238144 239121\n",
            " 240100 241081 242064 243049 244036 245025 246016 247009 248004 249001\n",
            " 250000 251001 252004 253009 254016 255025 256036 257049 258064 259081\n",
            " 260100 261121 262144 263169 264196 265225 266256 267289 268324 269361\n",
            " 270400 271441 272484 273529 274576 275625 276676 277729 278784 279841\n",
            " 280900 281961 283024 284089 285156 286225 287296 288369 289444 290521\n",
            " 291600 292681 293764 294849 295936 297025 298116 299209 300304 301401\n",
            " 302500 303601 304704 305809 306916 308025 309136 310249 311364 312481\n",
            " 313600 314721 315844 316969 318096 319225 320356 321489 322624 323761\n",
            " 324900 326041 327184 328329 329476 330625 331776 332929 334084 335241\n",
            " 336400 337561 338724 339889 341056 342225 343396 344569 345744 346921\n",
            " 348100 349281 350464 351649 352836 354025 355216 356409 357604 358801\n",
            " 360000 361201 362404 363609 364816 366025 367236 368449 369664 370881\n",
            " 372100 373321 374544 375769 376996 378225 379456 380689 381924 383161\n",
            " 384400 385641 386884 388129 389376 390625 391876 393129 394384 395641\n",
            " 396900 398161 399424 400689 401956 403225 404496 405769 407044 408321\n",
            " 409600 410881 412164 413449 414736 416025 417316 418609 419904 421201\n",
            " 422500 423801 425104 426409 427716 429025 430336 431649 432964 434281\n",
            " 435600 436921 438244 439569 440896 442225 443556 444889 446224 447561\n",
            " 448900 450241 451584 452929 454276 455625 456976 458329 459684 461041\n",
            " 462400 463761 465124 466489 467856 469225 470596 471969 473344 474721\n",
            " 476100 477481 478864 480249 481636 483025 484416 485809 487204 488601\n",
            " 490000 491401 492804 494209 495616 497025 498436 499849 501264 502681\n",
            " 504100 505521 506944 508369 509796 511225 512656 514089 515524 516961\n",
            " 518400 519841 521284 522729 524176 525625 527076 528529 529984 531441\n",
            " 532900 534361 535824 537289 538756 540225 541696 543169 544644 546121\n",
            " 547600 549081 550564 552049 553536 555025 556516 558009 559504 561001\n",
            " 562500 564001 565504 567009 568516 570025 571536 573049 574564 576081\n",
            " 577600 579121 580644 582169 583696 585225 586756 588289 589824 591361\n",
            " 592900 594441 595984 597529 599076 600625 602176 603729 605284 606841\n",
            " 608400 609961 611524 613089 614656 616225 617796 619369 620944 622521\n",
            " 624100 625681 627264 628849 630436 632025 633616 635209 636804 638401\n",
            " 640000 641601 643204 644809 646416 648025 649636 651249 652864 654481\n",
            " 656100 657721 659344 660969 662596 664225 665856 667489 669124 670761\n",
            " 672400 674041 675684 677329 678976 680625 682276 683929 685584 687241\n",
            " 688900 690561 692224 693889 695556 697225 698896 700569 702244 703921\n",
            " 705600 707281 708964 710649 712336 714025 715716 717409 719104 720801\n",
            " 722500 724201 725904 727609 729316 731025 732736 734449 736164 737881\n",
            " 739600 741321 743044 744769 746496 748225 749956 751689 753424 755161\n",
            " 756900 758641 760384 762129 763876 765625 767376 769129 770884 772641\n",
            " 774400 776161 777924 779689 781456 783225 784996 786769 788544 790321\n",
            " 792100 793881 795664 797449 799236 801025 802816 804609 806404 808201\n",
            " 810000 811801 813604 815409 817216 819025 820836 822649 824464 826281\n",
            " 828100 829921 831744 833569 835396 837225 839056 840889 842724 844561\n",
            " 846400 848241 850084 851929 853776 855625 857476 859329 861184 863041\n",
            " 864900 866761 868624 870489 872356 874225 876096 877969 879844 881721\n",
            " 883600 885481 887364 889249 891136 893025 894916 896809 898704 900601\n",
            " 902500 904401 906304 908209 910116 912025 913936 915849 917764 919681\n",
            " 921600 923521 925444 927369 929296 931225 933156 935089 937024 938961\n",
            " 940900 942841 944784 946729 948676 950625 952576 954529 956484 958441\n",
            " 960400 962361 964324 966289 968256 970225 972196 974169 976144 978121\n",
            " 980100 982081 984064 986049 988036 990025 992016 994009 996004 998001]\n",
            "total time 8.344650268554688e-05\n"
          ],
          "name": "stdout"
        }
      ]
    },
    {
      "cell_type": "code",
      "metadata": {
        "colab": {
          "base_uri": "https://localhost:8080/"
        },
        "id": "PD12KmKURbf9",
        "outputId": "40980cbb-a0a5-4e55-ff69-8232181c7ff6"
      },
      "source": [
        "lst1 = [1,2,3,4]\n",
        "\n",
        "arr = np.array(lst1)\n",
        "\n",
        "print(arr)\n",
        "\n",
        "lst1.append(6)\n",
        "arr = np.array(lst1)\n",
        "print(arr)\n",
        "print(lst1)\n"
      ],
      "execution_count": 15,
      "outputs": [
        {
          "output_type": "stream",
          "text": [
            "[1 2 3 4]\n",
            "[1 2 3 4 6]\n",
            "[1, 2, 3, 4, 6]\n"
          ],
          "name": "stdout"
        }
      ]
    },
    {
      "cell_type": "code",
      "metadata": {
        "colab": {
          "base_uri": "https://localhost:8080/"
        },
        "id": "ruKRCxyPSf0-",
        "outputId": "29e91c1b-8869-4fe6-d74a-3c03d19cfbc3"
      },
      "source": [
        "arr1 = np.array([[1,2,3,4],[5,6,7,8]], ndmin = 2)\n",
        "\n",
        "\n",
        "print(arr1)\n",
        "\n",
        "\n",
        "\n",
        "\n",
        "\n"
      ],
      "execution_count": 18,
      "outputs": [
        {
          "output_type": "stream",
          "text": [
            "[[1 2 3 4]\n",
            " [5 6 7 8]]\n"
          ],
          "name": "stdout"
        }
      ]
    },
    {
      "cell_type": "code",
      "metadata": {
        "colab": {
          "base_uri": "https://localhost:8080/"
        },
        "id": "j4TtrvX5VZYk",
        "outputId": "a2c38e6a-9f37-4888-d2bd-4c0acec22250"
      },
      "source": [
        "import numpy as np\n",
        "\n",
        "arr1 = np.array([1,2,3])\n",
        "\n",
        "print(arr1)\n"
      ],
      "execution_count": 3,
      "outputs": [
        {
          "output_type": "stream",
          "text": [
            "[1 2 3]\n"
          ],
          "name": "stdout"
        }
      ]
    },
    {
      "cell_type": "code",
      "metadata": {
        "colab": {
          "base_uri": "https://localhost:8080/"
        },
        "id": "ihpltqUxEbHv",
        "outputId": "ec10a209-a030-4540-8119-8e06e673856b"
      },
      "source": [
        "type(arr1)"
      ],
      "execution_count": 4,
      "outputs": [
        {
          "output_type": "execute_result",
          "data": {
            "text/plain": [
              "numpy.ndarray"
            ]
          },
          "metadata": {
            "tags": []
          },
          "execution_count": 4
        }
      ]
    },
    {
      "cell_type": "code",
      "metadata": {
        "colab": {
          "base_uri": "https://localhost:8080/"
        },
        "id": "gCzo6bsMEoLg",
        "outputId": "0768f549-3964-434d-90db-b8d81e2ffad9"
      },
      "source": [
        "arr2 = np.zeros((2,2))\n",
        "print(arr2)\n"
      ],
      "execution_count": 7,
      "outputs": [
        {
          "output_type": "stream",
          "text": [
            "[[0. 0.]\n",
            " [0. 0.]]\n"
          ],
          "name": "stdout"
        }
      ]
    },
    {
      "cell_type": "code",
      "metadata": {
        "colab": {
          "base_uri": "https://localhost:8080/"
        },
        "id": "h0Uil6qLEzXd",
        "outputId": "045495bb-fb4f-40b8-df0e-d8f2564d08fd"
      },
      "source": [
        " lst1 = [1,2,3,4,True,False,2+3j,'code']\n",
        " print(lst1)"
      ],
      "execution_count": 8,
      "outputs": [
        {
          "output_type": "stream",
          "text": [
            "[1, 2, 3, 4, True, False, (2+3j), 'code']\n"
          ],
          "name": "stdout"
        }
      ]
    },
    {
      "cell_type": "code",
      "metadata": {
        "colab": {
          "base_uri": "https://localhost:8080/"
        },
        "id": "My8mQrr_FPgE",
        "outputId": "f96e9b0c-e1f2-4637-8557-913bb8e0039c"
      },
      "source": [
        "type(lst1)\n"
      ],
      "execution_count": 9,
      "outputs": [
        {
          "output_type": "execute_result",
          "data": {
            "text/plain": [
              "list"
            ]
          },
          "metadata": {
            "tags": []
          },
          "execution_count": 9
        }
      ]
    },
    {
      "cell_type": "code",
      "metadata": {
        "id": "ZiR6JvOCFVmA"
      },
      "source": [
        "# different types of fata structures\n",
        "\n",
        "# list - []\n",
        "\n",
        "#tuple - ()\n",
        "\n",
        "#Dictionar - {key:value}\n",
        "\n",
        "#set = {numerical values and unique variables}\n",
        "\n"
      ],
      "execution_count": null,
      "outputs": []
    },
    {
      "cell_type": "code",
      "metadata": {
        "colab": {
          "base_uri": "https://localhost:8080/"
        },
        "id": "8xKM9AAwF-ja",
        "outputId": "5957b15b-1331-4eea-8947-de0cfc6fcbe9"
      },
      "source": [
        "# creating a n dimensional array\n",
        "\n",
        "a = [[1,2,3],[4,5,6]]\n",
        "\n",
        "print(a)"
      ],
      "execution_count": 10,
      "outputs": [
        {
          "output_type": "stream",
          "text": [
            "[[1, 2, 3], [4, 5, 6]]\n"
          ],
          "name": "stdout"
        }
      ]
    },
    {
      "cell_type": "code",
      "metadata": {
        "colab": {
          "base_uri": "https://localhost:8080/"
        },
        "id": "wsAVQmZjGJRV",
        "outputId": "819225e1-64fd-4a0e-9f2f-1fe650f5129b"
      },
      "source": [
        "import numpy as np\n",
        "\n",
        "np.array(a,ndmin=3)"
      ],
      "execution_count": 12,
      "outputs": [
        {
          "output_type": "execute_result",
          "data": {
            "text/plain": [
              "array([[[1, 2, 3],\n",
              "        [4, 5, 6]]])"
            ]
          },
          "metadata": {
            "tags": []
          },
          "execution_count": 12
        }
      ]
    },
    {
      "cell_type": "code",
      "metadata": {
        "colab": {
          "base_uri": "https://localhost:8080/"
        },
        "id": "kFvZyNrcGa2U",
        "outputId": "e9d340e2-941c-41d9-c101-72b2d2f1591d"
      },
      "source": [
        "arr = np.array([[1,2,3],[4,5,6],[7,8,9]])\n",
        "\n",
        "print(arr)"
      ],
      "execution_count": 14,
      "outputs": [
        {
          "output_type": "stream",
          "text": [
            "[[1 2 3]\n",
            " [4 5 6]\n",
            " [7 8 9]]\n"
          ],
          "name": "stdout"
        }
      ]
    },
    {
      "cell_type": "code",
      "metadata": {
        "colab": {
          "base_uri": "https://localhost:8080/"
        },
        "id": "8AaGR0XHG1ic",
        "outputId": "0acf7ec6-f5ce-41fb-d512-444760d0af81"
      },
      "source": [
        "arr[2,2]"
      ],
      "execution_count": 17,
      "outputs": [
        {
          "output_type": "execute_result",
          "data": {
            "text/plain": [
              "9"
            ]
          },
          "metadata": {
            "tags": []
          },
          "execution_count": 17
        }
      ]
    },
    {
      "cell_type": "code",
      "metadata": {
        "colab": {
          "base_uri": "https://localhost:8080/"
        },
        "id": "PPWGlOYBHEHf",
        "outputId": "2cd4127a-04fd-497d-80ff-9e046d464e2f"
      },
      "source": [
        "# Numpy is for mathematical operations like creating and manipulating arrays and numbers\n",
        "\n",
        "# Pandas - Is the data handling mechanism tool which can handle the datasets to process into models\n",
        "\n",
        "np.random.rand(3,2)"
      ],
      "execution_count": 18,
      "outputs": [
        {
          "output_type": "execute_result",
          "data": {
            "text/plain": [
              "array([[0.08124145, 0.55039865],\n",
              "       [0.5235373 , 0.48591559],\n",
              "       [0.03177969, 0.71476349]])"
            ]
          },
          "metadata": {
            "tags": []
          },
          "execution_count": 18
        }
      ]
    },
    {
      "cell_type": "code",
      "metadata": {
        "colab": {
          "base_uri": "https://localhost:8080/"
        },
        "id": "cJKtfNQ8IHi1",
        "outputId": "475eef98-5cce-4b4c-9f29-fc7ace22d66a"
      },
      "source": [
        "arr1= np.random.rand(3,2)\n",
        "\n",
        "arr2 = np.random.rand(3,2)\n",
        "\n",
        "s1 = np.add(arr1,arr2)\n",
        "print(arr1)\n",
        "print(arr2)\n",
        "print(s1)"
      ],
      "execution_count": 20,
      "outputs": [
        {
          "output_type": "stream",
          "text": [
            "[[0.1343806  0.6791957 ]\n",
            " [0.60992116 0.25562372]\n",
            " [0.8941435  0.58243919]]\n",
            "[[0.62586837 0.22453269]\n",
            " [0.4257396  0.32476193]\n",
            " [0.97531894 0.69754073]]\n",
            "[[0.76024897 0.90372838]\n",
            " [1.03566076 0.58038566]\n",
            " [1.86946244 1.27997991]]\n"
          ],
          "name": "stdout"
        }
      ]
    },
    {
      "cell_type": "code",
      "metadata": {
        "colab": {
          "base_uri": "https://localhost:8080/"
        },
        "id": "mmDFViXzIaqg",
        "outputId": "3332cfec-9881-45dd-d332-f9b1dc3533a2"
      },
      "source": [
        "0.1343806+0.62586837\n"
      ],
      "execution_count": 21,
      "outputs": [
        {
          "output_type": "execute_result",
          "data": {
            "text/plain": [
              "0.7602489699999999"
            ]
          },
          "metadata": {
            "tags": []
          },
          "execution_count": 21
        }
      ]
    },
    {
      "cell_type": "code",
      "metadata": {
        "colab": {
          "base_uri": "https://localhost:8080/"
        },
        "id": "aLe2H1VDItWd",
        "outputId": "13d35bd2-976a-4b36-c8d6-cb22cb2a02f6"
      },
      "source": [
        "#indexing and slicing\n",
        "\n",
        "#step value means skipp a[0:10:2]\n",
        "\n",
        "#reshape an array\n",
        "import numpy as np\n",
        "\n",
        "arr2 =np.array([[1,2,3,4],[5,6,7,8]])\n",
        "\n",
        "arr2"
      ],
      "execution_count": 28,
      "outputs": [
        {
          "output_type": "execute_result",
          "data": {
            "text/plain": [
              "array([[1, 2, 3, 4],\n",
              "       [5, 6, 7, 8]])"
            ]
          },
          "metadata": {
            "tags": []
          },
          "execution_count": 28
        }
      ]
    },
    {
      "cell_type": "code",
      "metadata": {
        "colab": {
          "base_uri": "https://localhost:8080/"
        },
        "id": "UJLi6gFmLivh",
        "outputId": "f345d69c-2660-453d-a7ab-006f0f0a2188"
      },
      "source": [
        "arr2.shape\n"
      ],
      "execution_count": 29,
      "outputs": [
        {
          "output_type": "execute_result",
          "data": {
            "text/plain": [
              "(2, 4)"
            ]
          },
          "metadata": {
            "tags": []
          },
          "execution_count": 29
        }
      ]
    },
    {
      "cell_type": "code",
      "metadata": {
        "colab": {
          "base_uri": "https://localhost:8080/"
        },
        "id": "lLGpxLo8LmfN",
        "outputId": "03997611-d672-4ee0-b75a-28aaa07fb3cf"
      },
      "source": [
        "arr2.reshape(1,8)"
      ],
      "execution_count": 33,
      "outputs": [
        {
          "output_type": "execute_result",
          "data": {
            "text/plain": [
              "array([[1, 2, 3, 4, 5, 6, 7, 8]])"
            ]
          },
          "metadata": {
            "tags": []
          },
          "execution_count": 33
        }
      ]
    },
    {
      "cell_type": "code",
      "metadata": {
        "colab": {
          "base_uri": "https://localhost:8080/",
          "height": 80
        },
        "id": "J84uSUk0MBkJ",
        "outputId": "2d387d7f-f08e-47eb-b48d-7c3770444c17"
      },
      "source": [
        "# we are using html parser to acces data from a webpage\n",
        "\n",
        "import pandas as pd\n",
        "\n",
        "web = pd.read_html(\"https://en.wikipedia.org/wiki/Machine_learning\")[3]\n",
        "\n",
        "web.head()\n",
        "\n"
      ],
      "execution_count": 34,
      "outputs": [
        {
          "output_type": "execute_result",
          "data": {
            "text/html": [
              "<div>\n",
              "<style scoped>\n",
              "    .dataframe tbody tr th:only-of-type {\n",
              "        vertical-align: middle;\n",
              "    }\n",
              "\n",
              "    .dataframe tbody tr th {\n",
              "        vertical-align: top;\n",
              "    }\n",
              "\n",
              "    .dataframe thead th {\n",
              "        text-align: right;\n",
              "    }\n",
              "</style>\n",
              "<table border=\"1\" class=\"dataframe\">\n",
              "  <thead>\n",
              "    <tr style=\"text-align: right;\">\n",
              "      <th></th>\n",
              "      <th>0</th>\n",
              "      <th>1</th>\n",
              "    </tr>\n",
              "  </thead>\n",
              "  <tbody>\n",
              "    <tr>\n",
              "      <th>0</th>\n",
              "      <td>NaN</td>\n",
              "      <td>Wikimedia Commons has media related to Machine...</td>\n",
              "    </tr>\n",
              "  </tbody>\n",
              "</table>\n",
              "</div>"
            ],
            "text/plain": [
              "    0                                                  1\n",
              "0 NaN  Wikimedia Commons has media related to Machine..."
            ]
          },
          "metadata": {
            "tags": []
          },
          "execution_count": 34
        }
      ]
    },
    {
      "cell_type": "code",
      "metadata": {
        "id": "50_hzJYKQXnd"
      },
      "source": [
        "excel = pd.read_excel(\"/content/ex1.xlsx\")"
      ],
      "execution_count": 36,
      "outputs": []
    },
    {
      "cell_type": "code",
      "metadata": {
        "colab": {
          "base_uri": "https://localhost:8080/",
          "height": 142
        },
        "id": "xg_fZg7BRRzf",
        "outputId": "2e3a5997-a014-499f-da74-eb3eb85cee35"
      },
      "source": [
        "excel"
      ],
      "execution_count": 37,
      "outputs": [
        {
          "output_type": "execute_result",
          "data": {
            "text/html": [
              "<div>\n",
              "<style scoped>\n",
              "    .dataframe tbody tr th:only-of-type {\n",
              "        vertical-align: middle;\n",
              "    }\n",
              "\n",
              "    .dataframe tbody tr th {\n",
              "        vertical-align: top;\n",
              "    }\n",
              "\n",
              "    .dataframe thead th {\n",
              "        text-align: right;\n",
              "    }\n",
              "</style>\n",
              "<table border=\"1\" class=\"dataframe\">\n",
              "  <thead>\n",
              "    <tr style=\"text-align: right;\">\n",
              "      <th></th>\n",
              "      <th>Unnamed: 0</th>\n",
              "      <th>a</th>\n",
              "      <th>b</th>\n",
              "      <th>c</th>\n",
              "      <th>d</th>\n",
              "      <th>message</th>\n",
              "    </tr>\n",
              "  </thead>\n",
              "  <tbody>\n",
              "    <tr>\n",
              "      <th>0</th>\n",
              "      <td>0</td>\n",
              "      <td>1</td>\n",
              "      <td>2</td>\n",
              "      <td>3</td>\n",
              "      <td>4</td>\n",
              "      <td>hello</td>\n",
              "    </tr>\n",
              "    <tr>\n",
              "      <th>1</th>\n",
              "      <td>1</td>\n",
              "      <td>5</td>\n",
              "      <td>6</td>\n",
              "      <td>7</td>\n",
              "      <td>8</td>\n",
              "      <td>world</td>\n",
              "    </tr>\n",
              "    <tr>\n",
              "      <th>2</th>\n",
              "      <td>2</td>\n",
              "      <td>9</td>\n",
              "      <td>10</td>\n",
              "      <td>11</td>\n",
              "      <td>12</td>\n",
              "      <td>foo</td>\n",
              "    </tr>\n",
              "  </tbody>\n",
              "</table>\n",
              "</div>"
            ],
            "text/plain": [
              "   Unnamed: 0  a   b   c   d message\n",
              "0           0  1   2   3   4   hello\n",
              "1           1  5   6   7   8   world\n",
              "2           2  9  10  11  12     foo"
            ]
          },
          "metadata": {
            "tags": []
          },
          "execution_count": 37
        }
      ]
    },
    {
      "cell_type": "code",
      "metadata": {
        "colab": {
          "base_uri": "https://localhost:8080/",
          "height": 142
        },
        "id": "8OIEDGPMRVQr",
        "outputId": "44346708-6a73-4ffc-8ade-8d6641eb1da6"
      },
      "source": [
        "excel.head()"
      ],
      "execution_count": 38,
      "outputs": [
        {
          "output_type": "execute_result",
          "data": {
            "text/html": [
              "<div>\n",
              "<style scoped>\n",
              "    .dataframe tbody tr th:only-of-type {\n",
              "        vertical-align: middle;\n",
              "    }\n",
              "\n",
              "    .dataframe tbody tr th {\n",
              "        vertical-align: top;\n",
              "    }\n",
              "\n",
              "    .dataframe thead th {\n",
              "        text-align: right;\n",
              "    }\n",
              "</style>\n",
              "<table border=\"1\" class=\"dataframe\">\n",
              "  <thead>\n",
              "    <tr style=\"text-align: right;\">\n",
              "      <th></th>\n",
              "      <th>Unnamed: 0</th>\n",
              "      <th>a</th>\n",
              "      <th>b</th>\n",
              "      <th>c</th>\n",
              "      <th>d</th>\n",
              "      <th>message</th>\n",
              "    </tr>\n",
              "  </thead>\n",
              "  <tbody>\n",
              "    <tr>\n",
              "      <th>0</th>\n",
              "      <td>0</td>\n",
              "      <td>1</td>\n",
              "      <td>2</td>\n",
              "      <td>3</td>\n",
              "      <td>4</td>\n",
              "      <td>hello</td>\n",
              "    </tr>\n",
              "    <tr>\n",
              "      <th>1</th>\n",
              "      <td>1</td>\n",
              "      <td>5</td>\n",
              "      <td>6</td>\n",
              "      <td>7</td>\n",
              "      <td>8</td>\n",
              "      <td>world</td>\n",
              "    </tr>\n",
              "    <tr>\n",
              "      <th>2</th>\n",
              "      <td>2</td>\n",
              "      <td>9</td>\n",
              "      <td>10</td>\n",
              "      <td>11</td>\n",
              "      <td>12</td>\n",
              "      <td>foo</td>\n",
              "    </tr>\n",
              "  </tbody>\n",
              "</table>\n",
              "</div>"
            ],
            "text/plain": [
              "   Unnamed: 0  a   b   c   d message\n",
              "0           0  1   2   3   4   hello\n",
              "1           1  5   6   7   8   world\n",
              "2           2  9  10  11  12     foo"
            ]
          },
          "metadata": {
            "tags": []
          },
          "execution_count": 38
        }
      ]
    },
    {
      "cell_type": "code",
      "metadata": {
        "colab": {
          "base_uri": "https://localhost:8080/",
          "height": 142
        },
        "id": "oOy2Bai4RY9G",
        "outputId": "3677563b-0670-4d90-b492-11adf73e82f7"
      },
      "source": [
        "excel.tail()"
      ],
      "execution_count": 39,
      "outputs": [
        {
          "output_type": "execute_result",
          "data": {
            "text/html": [
              "<div>\n",
              "<style scoped>\n",
              "    .dataframe tbody tr th:only-of-type {\n",
              "        vertical-align: middle;\n",
              "    }\n",
              "\n",
              "    .dataframe tbody tr th {\n",
              "        vertical-align: top;\n",
              "    }\n",
              "\n",
              "    .dataframe thead th {\n",
              "        text-align: right;\n",
              "    }\n",
              "</style>\n",
              "<table border=\"1\" class=\"dataframe\">\n",
              "  <thead>\n",
              "    <tr style=\"text-align: right;\">\n",
              "      <th></th>\n",
              "      <th>Unnamed: 0</th>\n",
              "      <th>a</th>\n",
              "      <th>b</th>\n",
              "      <th>c</th>\n",
              "      <th>d</th>\n",
              "      <th>message</th>\n",
              "    </tr>\n",
              "  </thead>\n",
              "  <tbody>\n",
              "    <tr>\n",
              "      <th>0</th>\n",
              "      <td>0</td>\n",
              "      <td>1</td>\n",
              "      <td>2</td>\n",
              "      <td>3</td>\n",
              "      <td>4</td>\n",
              "      <td>hello</td>\n",
              "    </tr>\n",
              "    <tr>\n",
              "      <th>1</th>\n",
              "      <td>1</td>\n",
              "      <td>5</td>\n",
              "      <td>6</td>\n",
              "      <td>7</td>\n",
              "      <td>8</td>\n",
              "      <td>world</td>\n",
              "    </tr>\n",
              "    <tr>\n",
              "      <th>2</th>\n",
              "      <td>2</td>\n",
              "      <td>9</td>\n",
              "      <td>10</td>\n",
              "      <td>11</td>\n",
              "      <td>12</td>\n",
              "      <td>foo</td>\n",
              "    </tr>\n",
              "  </tbody>\n",
              "</table>\n",
              "</div>"
            ],
            "text/plain": [
              "   Unnamed: 0  a   b   c   d message\n",
              "0           0  1   2   3   4   hello\n",
              "1           1  5   6   7   8   world\n",
              "2           2  9  10  11  12     foo"
            ]
          },
          "metadata": {
            "tags": []
          },
          "execution_count": 39
        }
      ]
    },
    {
      "cell_type": "code",
      "metadata": {
        "id": "p-SrHSYUR1w0"
      },
      "source": [
        ""
      ],
      "execution_count": null,
      "outputs": []
    }
  ]
}